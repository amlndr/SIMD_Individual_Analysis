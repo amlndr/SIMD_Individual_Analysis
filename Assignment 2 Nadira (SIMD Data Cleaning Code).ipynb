{
 "cells": [
  {
   "cell_type": "markdown",
   "metadata": {
    "id": "fEfFWvGSfERA"
   },
   "source": [
    "# About\n",
    "**This file is created as a team effort to clean the dataset for the team's use.**\n",
    "\n",
    "Each file is extracted into 1 dataframe each. Below is the explanation\n",
    "\n",
    "**Indicators**\n",
    "- df20 -> simd2020_withinds.xlsx\n",
    "- df16 -> simd 2016 indicator data.xlsx\n",
    "\n",
    "**Geographic Data**\n",
    "- df20_DZ -> datazone2020.xlsx\n",
    "- df20_PC -> postcode2020.xlsx\n",
    "- df20_PCDZ -> merged from df20_PC and df20_DZ\n",
    "\n",
    "**Indicator Merged from df20 and df16**\n",
    "- m_df20 -> merged from df20 and df20_PCDZ\n",
    "- m_df16 -> merged from df16 and df20_PCDZ\n",
    "\n",
    "**Merged 2016 and 2020**\n",
    "- m_df -> merged from m_df16 and m_df20\n"
   ]
  },
  {
   "cell_type": "markdown",
   "metadata": {
    "id": "EGUofMtgzfjt"
   },
   "source": [
    "# 2020 INDICATOR"
   ]
  },
  {
   "cell_type": "code",
   "execution_count": 1,
   "metadata": {
    "colab": {
     "base_uri": "https://localhost:8080/"
    },
    "executionInfo": {
     "elapsed": 2425,
     "status": "ok",
     "timestamp": 1699629776277,
     "user": {
      "displayName": "Feni Fauziah",
      "userId": "05215426566664694918"
     },
     "user_tz": 0
    },
    "id": "gp8jKqDqy4gx",
    "outputId": "e1ca160f-eb9e-4cb2-b2b6-c7db7af415c9"
   },
   "outputs": [],
   "source": [
    "# import library\n",
    "import pandas as pd"
   ]
  },
  {
   "cell_type": "code",
   "execution_count": 4,
   "metadata": {
    "colab": {
     "base_uri": "https://localhost:8080/",
     "height": 342
    },
    "executionInfo": {
     "elapsed": 2692,
     "status": "ok",
     "timestamp": 1699629786920,
     "user": {
      "displayName": "Feni Fauziah",
      "userId": "05215426566664694918"
     },
     "user_tz": 0
    },
    "id": "FRctSZuO-QyP",
    "outputId": "6113ac5b-e749-4cd6-e122-0ba3baf02bdd"
   },
   "outputs": [
    {
     "data": {
      "text/html": [
       "<div>\n",
       "<style scoped>\n",
       "    .dataframe tbody tr th:only-of-type {\n",
       "        vertical-align: middle;\n",
       "    }\n",
       "\n",
       "    .dataframe tbody tr th {\n",
       "        vertical-align: top;\n",
       "    }\n",
       "\n",
       "    .dataframe thead th {\n",
       "        text-align: right;\n",
       "    }\n",
       "</style>\n",
       "<table border=\"1\" class=\"dataframe\">\n",
       "  <thead>\n",
       "    <tr style=\"text-align: right;\">\n",
       "      <th></th>\n",
       "      <th>Data_Zone</th>\n",
       "      <th>Intermediate_Zone</th>\n",
       "      <th>Council_area</th>\n",
       "      <th>Total_population</th>\n",
       "      <th>Working_Age_population</th>\n",
       "      <th>SIMD2020v2_Rank</th>\n",
       "      <th>SIMD_2020v2_Percentile</th>\n",
       "      <th>SIMD2020v2_Vigintile</th>\n",
       "      <th>SIMD2020v2_Decile</th>\n",
       "      <th>SIMD2020v2_Quintile</th>\n",
       "      <th>...</th>\n",
       "      <th>drive_petrol</th>\n",
       "      <th>drive_GP</th>\n",
       "      <th>drive_post</th>\n",
       "      <th>drive_primary</th>\n",
       "      <th>drive_retail</th>\n",
       "      <th>drive_secondary</th>\n",
       "      <th>PT_GP</th>\n",
       "      <th>PT_post</th>\n",
       "      <th>PT_retail</th>\n",
       "      <th>broadband</th>\n",
       "    </tr>\n",
       "  </thead>\n",
       "  <tbody>\n",
       "    <tr>\n",
       "      <th>0</th>\n",
       "      <td>S01008417</td>\n",
       "      <td>Balerno and Bonnington Village</td>\n",
       "      <td>City of Edinburgh</td>\n",
       "      <td>708</td>\n",
       "      <td>397</td>\n",
       "      <td>5537</td>\n",
       "      <td>80</td>\n",
       "      <td>16</td>\n",
       "      <td>8</td>\n",
       "      <td>4</td>\n",
       "      <td>...</td>\n",
       "      <td>3.147979</td>\n",
       "      <td>7.470992</td>\n",
       "      <td>3.602979</td>\n",
       "      <td>5.257358</td>\n",
       "      <td>3.522979</td>\n",
       "      <td>4.135769</td>\n",
       "      <td>22.373316</td>\n",
       "      <td>16.205441</td>\n",
       "      <td>16.552056</td>\n",
       "      <td>0.152597</td>\n",
       "    </tr>\n",
       "    <tr>\n",
       "      <th>1</th>\n",
       "      <td>S01008418</td>\n",
       "      <td>Balerno and Bonnington Village</td>\n",
       "      <td>City of Edinburgh</td>\n",
       "      <td>691</td>\n",
       "      <td>378</td>\n",
       "      <td>6119</td>\n",
       "      <td>88</td>\n",
       "      <td>18</td>\n",
       "      <td>9</td>\n",
       "      <td>5</td>\n",
       "      <td>...</td>\n",
       "      <td>3.582608</td>\n",
       "      <td>7.658158</td>\n",
       "      <td>4.036864</td>\n",
       "      <td>3.559743</td>\n",
       "      <td>3.956525</td>\n",
       "      <td>4.767980</td>\n",
       "      <td>17.633049</td>\n",
       "      <td>12.754447</td>\n",
       "      <td>13.100199</td>\n",
       "      <td>0.074194</td>\n",
       "    </tr>\n",
       "    <tr>\n",
       "      <th>2</th>\n",
       "      <td>S01008419</td>\n",
       "      <td>Balerno and Bonnington Village</td>\n",
       "      <td>City of Edinburgh</td>\n",
       "      <td>541</td>\n",
       "      <td>338</td>\n",
       "      <td>5200</td>\n",
       "      <td>75</td>\n",
       "      <td>15</td>\n",
       "      <td>8</td>\n",
       "      <td>4</td>\n",
       "      <td>...</td>\n",
       "      <td>2.436124</td>\n",
       "      <td>6.391605</td>\n",
       "      <td>2.890733</td>\n",
       "      <td>3.023231</td>\n",
       "      <td>2.810733</td>\n",
       "      <td>3.161976</td>\n",
       "      <td>18.665124</td>\n",
       "      <td>13.401943</td>\n",
       "      <td>13.749981</td>\n",
       "      <td>0.000000</td>\n",
       "    </tr>\n",
       "    <tr>\n",
       "      <th>3</th>\n",
       "      <td>S01008420</td>\n",
       "      <td>Balerno and Bonnington Village</td>\n",
       "      <td>City of Edinburgh</td>\n",
       "      <td>466</td>\n",
       "      <td>274</td>\n",
       "      <td>6431</td>\n",
       "      <td>93</td>\n",
       "      <td>19</td>\n",
       "      <td>10</td>\n",
       "      <td>5</td>\n",
       "      <td>...</td>\n",
       "      <td>2.318151</td>\n",
       "      <td>6.596964</td>\n",
       "      <td>3.007096</td>\n",
       "      <td>2.155458</td>\n",
       "      <td>2.926565</td>\n",
       "      <td>3.369638</td>\n",
       "      <td>16.614664</td>\n",
       "      <td>10.839664</td>\n",
       "      <td>11.187521</td>\n",
       "      <td>0.000000</td>\n",
       "    </tr>\n",
       "    <tr>\n",
       "      <th>4</th>\n",
       "      <td>S01008421</td>\n",
       "      <td>Balerno and Bonnington Village</td>\n",
       "      <td>City of Edinburgh</td>\n",
       "      <td>884</td>\n",
       "      <td>537</td>\n",
       "      <td>3441</td>\n",
       "      <td>50</td>\n",
       "      <td>10</td>\n",
       "      <td>5</td>\n",
       "      <td>3</td>\n",
       "      <td>...</td>\n",
       "      <td>1.305804</td>\n",
       "      <td>6.020373</td>\n",
       "      <td>2.037905</td>\n",
       "      <td>2.588223</td>\n",
       "      <td>1.959213</td>\n",
       "      <td>2.917302</td>\n",
       "      <td>16.158549</td>\n",
       "      <td>6.965932</td>\n",
       "      <td>7.310676</td>\n",
       "      <td>0.000000</td>\n",
       "    </tr>\n",
       "  </tbody>\n",
       "</table>\n",
       "<p>5 rows × 49 columns</p>\n",
       "</div>"
      ],
      "text/plain": [
       "   Data_Zone               Intermediate_Zone       Council_area  \\\n",
       "0  S01008417  Balerno and Bonnington Village  City of Edinburgh   \n",
       "1  S01008418  Balerno and Bonnington Village  City of Edinburgh   \n",
       "2  S01008419  Balerno and Bonnington Village  City of Edinburgh   \n",
       "3  S01008420  Balerno and Bonnington Village  City of Edinburgh   \n",
       "4  S01008421  Balerno and Bonnington Village  City of Edinburgh   \n",
       "\n",
       "   Total_population  Working_Age_population  SIMD2020v2_Rank  \\\n",
       "0               708                     397             5537   \n",
       "1               691                     378             6119   \n",
       "2               541                     338             5200   \n",
       "3               466                     274             6431   \n",
       "4               884                     537             3441   \n",
       "\n",
       "   SIMD_2020v2_Percentile  SIMD2020v2_Vigintile  SIMD2020v2_Decile  \\\n",
       "0                      80                    16                  8   \n",
       "1                      88                    18                  9   \n",
       "2                      75                    15                  8   \n",
       "3                      93                    19                 10   \n",
       "4                      50                    10                  5   \n",
       "\n",
       "   SIMD2020v2_Quintile  ...  drive_petrol  drive_GP  drive_post  \\\n",
       "0                    4  ...      3.147979  7.470992    3.602979   \n",
       "1                    5  ...      3.582608  7.658158    4.036864   \n",
       "2                    4  ...      2.436124  6.391605    2.890733   \n",
       "3                    5  ...      2.318151  6.596964    3.007096   \n",
       "4                    3  ...      1.305804  6.020373    2.037905   \n",
       "\n",
       "   drive_primary  drive_retail  drive_secondary      PT_GP    PT_post  \\\n",
       "0       5.257358      3.522979         4.135769  22.373316  16.205441   \n",
       "1       3.559743      3.956525         4.767980  17.633049  12.754447   \n",
       "2       3.023231      2.810733         3.161976  18.665124  13.401943   \n",
       "3       2.155458      2.926565         3.369638  16.614664  10.839664   \n",
       "4       2.588223      1.959213         2.917302  16.158549   6.965932   \n",
       "\n",
       "   PT_retail  broadband  \n",
       "0  16.552056   0.152597  \n",
       "1  13.100199   0.074194  \n",
       "2  13.749981   0.000000  \n",
       "3  11.187521   0.000000  \n",
       "4   7.310676   0.000000  \n",
       "\n",
       "[5 rows x 49 columns]"
      ]
     },
     "execution_count": 4,
     "metadata": {},
     "output_type": "execute_result"
    }
   ],
   "source": [
    "#this code gets the certain sheet we want to upload.\n",
    "#this specific file already filtered council area to only show 'City of Edinburgh' council area only\n",
    "sheet='Edinburgh'\n",
    "df20 = pd.read_excel('simd2020_withinds.xlsx',\n",
    "                   sheet_name=sheet)\n",
    "df20.head()"
   ]
  },
  {
   "cell_type": "code",
   "execution_count": 5,
   "metadata": {
    "colab": {
     "base_uri": "https://localhost:8080/"
    },
    "executionInfo": {
     "elapsed": 222,
     "status": "ok",
     "timestamp": 1699629793929,
     "user": {
      "displayName": "Feni Fauziah",
      "userId": "05215426566664694918"
     },
     "user_tz": 0
    },
    "id": "xjhlYFBzcKxQ",
    "outputId": "50e5912f-7b55-49e3-8d5a-957c5faf183f"
   },
   "outputs": [
    {
     "data": {
      "text/plain": [
       "597"
      ]
     },
     "execution_count": 5,
     "metadata": {},
     "output_type": "execute_result"
    }
   ],
   "source": [
    "# check number of column\n",
    "df20.shape[0]"
   ]
  },
  {
   "cell_type": "code",
   "execution_count": 7,
   "metadata": {
    "colab": {
     "base_uri": "https://localhost:8080/"
    },
    "executionInfo": {
     "elapsed": 232,
     "status": "ok",
     "timestamp": 1699629796318,
     "user": {
      "displayName": "Feni Fauziah",
      "userId": "05215426566664694918"
     },
     "user_tz": 0
    },
    "id": "2Qh9MV6kpyrG",
    "outputId": "ddfc2f93-a5be-4844-9780-f63f354420e3"
   },
   "outputs": [
    {
     "name": "stdout",
     "output_type": "stream",
     "text": [
      "Columns with at least one '*': Index(['Attendance', 'Attainment', 'crime_count', 'crime_rate'], dtype='object')\n",
      "Columns with at least one '%': Index([], dtype='object')\n"
     ]
    }
   ],
   "source": [
    "# check column with asterix\n",
    "columns_with_asterix = df20.columns[(df20 == '*').any()]\n",
    "# check column with '%' sign\n",
    "columns_with_percent = df20.columns[(df20 == '%').any()]\n",
    "\n",
    "# Print the columns with at least one 0\n",
    "print(\"Columns with at least one '*':\", columns_with_asterix)\n",
    "print(\"Columns with at least one '%':\", columns_with_percent)"
   ]
  },
  {
   "cell_type": "code",
   "execution_count": 8,
   "metadata": {
    "id": "WEVyT_KT3NCa"
   },
   "outputs": [],
   "source": [
    "# remove 0\n",
    "df20 = df20.replace('*', '')\n",
    "# remove % sign\n",
    "df20 = df20.replace('%', '')\n",
    "# capitalize column\n",
    "df20.columns = [column.upper() for column in df20.columns]\n",
    "# change name of column\n",
    "column_name_mapping20 = {\n",
    "  'DATA_ZONE':'DZ',\n",
    "  'SIMD2020V2_DECILE':'DECILE_RANK',\n",
    "  'SIMD2020V2_QUINTILE':'QUINTILE_RANK',\n",
    "  'SIMD2020V2_RANK':'OVERALL_RANK',\n",
    "  'SIMD2020_HEALTH_DOMAIN_RANK':'HEALTH_DOMAIN_RANK',\n",
    "  'SIMD2020_EDUCATION_DOMAIN_RANK':'EDUCATION_DOMAIN_RANK',\n",
    "  'SIMD2020_ACCESS_DOMAIN_RANK':'ACCESS_DOMAIN_RANK',\n",
    "\n",
    "  'SIMD2020_HOUSING_DOMAIN_RANK':'HOUSING_DOMAIN_RANK',\n",
    "  'SIMD2020V2_VIGINTILE':'VIGINTILE_RANK',\n",
    "\n",
    "  'SIMD2020V2_INCOME_DOMAIN_RANK':'INCOME_DOMAIN_RANK',\n",
    "  'SIMD_2020V2_PERCENTILE':'PERCENTILE',\n",
    "\n",
    "  'SIMD2020_CRIME_DOMAIN_RANK':'CRIME_DOMAIN_RANK',\n",
    "\n",
    "  'SIMD2020_EMPLOYMENT_DOMAIN_RANK':'EMPLOYMENT_DOMAIN_RANK'\n",
    "}\n",
    "\n",
    "# Use the rename method to update column names\n",
    "df20.rename(columns=column_name_mapping20, inplace=True)\n"
   ]
  },
  {
   "cell_type": "code",
   "execution_count": null,
   "metadata": {
    "colab": {
     "base_uri": "https://localhost:8080/"
    },
    "executionInfo": {
     "elapsed": 275,
     "status": "ok",
     "timestamp": 1699629806132,
     "user": {
      "displayName": "Feni Fauziah",
      "userId": "05215426566664694918"
     },
     "user_tz": 0
    },
    "id": "TloaXeM8gQXS",
    "outputId": "d5fe6567-b368-4447-e33b-4fe5cd5d4352"
   },
   "outputs": [
    {
     "data": {
      "text/plain": [
       "DZ                         object\n",
       "INTERMEDIATE_ZONE          object\n",
       "COUNCIL_AREA               object\n",
       "TOTAL_POPULATION            int64\n",
       "WORKING_AGE_POPULATION      int64\n",
       "OVERALL_RANK                int64\n",
       "PERCENTILE                  int64\n",
       "VIGINTILE_RANK              int64\n",
       "DECILE_RANK                 int64\n",
       "QUINTILE_RANK               int64\n",
       "INCOME_DOMAIN_RANK        float64\n",
       "EMPLOYMENT_DOMAIN_RANK    float64\n",
       "HEALTH_DOMAIN_RANK          int64\n",
       "EDUCATION_DOMAIN_RANK       int64\n",
       "ACCESS_DOMAIN_RANK          int64\n",
       "CRIME_DOMAIN_RANK         float64\n",
       "HOUSING_DOMAIN_RANK       float64\n",
       "INCOME_RATE               float64\n",
       "INCOME_COUNT                int64\n",
       "EMPLOYMENT_RATE           float64\n",
       "EMPLOYMENT_COUNT            int64\n",
       "CIF                         int64\n",
       "ALCOHOL                   float64\n",
       "DRUG                      float64\n",
       "SMR                       float64\n",
       "DEPRESS                   float64\n",
       "LBWT                      float64\n",
       "EMERG                     float64\n",
       "ATTENDANCE                 object\n",
       "ATTAINMENT                 object\n",
       "NO_QUALIFICATIONS         float64\n",
       "NOT_PARTICIPATING         float64\n",
       "UNIVERSITY                float64\n",
       "CRIME_COUNT                object\n",
       "CRIME_RATE                 object\n",
       "OVERCROWDED_COUNT           int64\n",
       "NOCENTRALHEATING_COUNT      int64\n",
       "OVERCROWDED_RATE          float64\n",
       "NOCENTRALHEATING_RATE     float64\n",
       "DRIVE_PETROL              float64\n",
       "DRIVE_GP                  float64\n",
       "DRIVE_POST                float64\n",
       "DRIVE_PRIMARY             float64\n",
       "DRIVE_RETAIL              float64\n",
       "DRIVE_SECONDARY           float64\n",
       "PT_GP                     float64\n",
       "PT_POST                   float64\n",
       "PT_RETAIL                 float64\n",
       "BROADBAND                 float64\n",
       "dtype: object"
      ]
     },
     "execution_count": 8,
     "metadata": {},
     "output_type": "execute_result"
    }
   ],
   "source": [
    "# check datatype\n",
    "df20.dtypes"
   ]
  },
  {
   "cell_type": "code",
   "execution_count": 16,
   "metadata": {},
   "outputs": [
    {
     "name": "stdout",
     "output_type": "stream",
     "text": [
      "Columns with at least one 0: Index(['INCOME_RATE', 'INCOME_COUNT', 'EMPLOYMENT_RATE', 'ALCOHOL', 'DRUG',\n",
      "       'LBWT', 'NOT_PARTICIPATING', 'UNIVERSITY', 'OVERCROWDED_COUNT',\n",
      "       'NOCENTRALHEATING_COUNT', 'OVERCROWDED_RATE', 'NOCENTRALHEATING_RATE',\n",
      "       'BROADBAND'],\n",
      "      dtype='object')\n"
     ]
    }
   ],
   "source": [
    "# check if data has 0 value.\n",
    "columns_with_zeros = df20.columns[(df20 == 0).any()]\n",
    "\n",
    "# Print the columns with at least one 0\n",
    "print(\"Columns with at least one 0:\", columns_with_zeros)"
   ]
  },
  {
   "cell_type": "markdown",
   "metadata": {
    "id": "l8m38hzs7-Js"
   },
   "source": [
    "The data for 2020 is cleaned and checked. The datatypes are correct and ready to use."
   ]
  },
  {
   "cell_type": "markdown",
   "metadata": {
    "id": "fGG8KNkV2530"
   },
   "source": [
    "# 2016 INDICATORS"
   ]
  },
  {
   "cell_type": "code",
   "execution_count": 11,
   "metadata": {
    "id": "NjRKKS8p5JTG"
   },
   "outputs": [],
   "source": [
    "# import data\n",
    "sheet='Data'\n",
    "df16 = pd.read_excel('simd 2016 indicator data.xlsx',\n",
    "                   sheet_name=sheet)\n"
   ]
  },
  {
   "cell_type": "code",
   "execution_count": 12,
   "metadata": {
    "colab": {
     "base_uri": "https://localhost:8080/"
    },
    "executionInfo": {
     "elapsed": 301,
     "status": "ok",
     "timestamp": 1699629816679,
     "user": {
      "displayName": "Feni Fauziah",
      "userId": "05215426566664694918"
     },
     "user_tz": 0
    },
    "id": "CeDt36Lvo8UB",
    "outputId": "d370ab12-81e8-46d2-baed-6694680f66e0"
   },
   "outputs": [
    {
     "name": "stdout",
     "output_type": "stream",
     "text": [
      "Columns with at least one '*': Index(['CIF', 'DEPRESS', 'LBWT', 'Attainment', 'HESA', 'crime_count',\n",
      "       'crime_rate'],\n",
      "      dtype='object')\n",
      "Columns with at least one '%': Index([], dtype='object')\n"
     ]
    }
   ],
   "source": [
    "# check asterix\n",
    "columns_with_asterix = df16.columns[(df16 == '*').any()]\n",
    "# check column with '%' sign\n",
    "columns_with_percent = df16.columns[(df16 == '%').any()]\n",
    "\n",
    "# Print the columns with at least one 0\n",
    "print(\"Columns with at least one '*':\", columns_with_asterix)\n",
    "print(\"Columns with at least one '%':\", columns_with_percent)"
   ]
  },
  {
   "cell_type": "code",
   "execution_count": 13,
   "metadata": {
    "id": "VjWRNvAL5Pxq"
   },
   "outputs": [],
   "source": [
    "\n",
    "# remove 0\n",
    "df16 = df16.replace('*', '')\n",
    "# remove % sign\n",
    "df16 = df16.replace('%', '')\n",
    "# capitalize column\n",
    "df16.columns = [column.upper() for column in df16.columns]\n",
    "# change column name 2016\n",
    "column_name_mapping16 = {\n",
    "  'DATA_ZONE':'DZ',\n",
    "  'NOCENTRALHEAT_RATE':'NOCENTRALHEATING_RATE',\n",
    "  'NOQUALS':'NO_QUALIFICATIONS',\n",
    "  'WORKING_AGE_POPULATION_REVISED':'WORKING_AGE_POPULATION',\n",
    "  'DRIVE_PO':'DRIVE_POST',\n",
    "  'NEET':'NOT_PARTICIPATING',\n",
    "  'NOCENTRALHEAT_COUNT':'NOCENTRALHEATING_COUNT',\n",
    "  'HESA':'UNIVERSITY',\n",
    "  'OVERALL_SIMD16_RANK':'OVERALL_RANK'\n",
    "}\n",
    "\n",
    "# Use the rename method to update column names\n",
    "df16.rename(columns=column_name_mapping16, inplace=True)"
   ]
  },
  {
   "cell_type": "code",
   "execution_count": 14,
   "metadata": {
    "id": "EUDduEPMbSRV"
   },
   "outputs": [],
   "source": [
    "# filter to only show data where council area equals to Edinburgh\n",
    "df16=df16[df16['COUNCIL_AREA']=='City of Edinburgh']"
   ]
  },
  {
   "cell_type": "code",
   "execution_count": null,
   "metadata": {
    "colab": {
     "base_uri": "https://localhost:8080/"
    },
    "executionInfo": {
     "elapsed": 390,
     "status": "ok",
     "timestamp": 1699629825242,
     "user": {
      "displayName": "Feni Fauziah",
      "userId": "05215426566664694918"
     },
     "user_tz": 0
    },
    "id": "b8A16eVZcQME",
    "outputId": "620bc8d3-84e1-4842-886b-b30eaea0ec50"
   },
   "outputs": [
    {
     "data": {
      "text/plain": [
       "597"
      ]
     },
     "execution_count": 13,
     "metadata": {},
     "output_type": "execute_result"
    }
   ],
   "source": [
    "# check number of column of df16\n",
    "df16.shape[0]"
   ]
  },
  {
   "cell_type": "code",
   "execution_count": null,
   "metadata": {
    "colab": {
     "base_uri": "https://localhost:8080/"
    },
    "executionInfo": {
     "elapsed": 197,
     "status": "ok",
     "timestamp": 1699629827092,
     "user": {
      "displayName": "Feni Fauziah",
      "userId": "05215426566664694918"
     },
     "user_tz": 0
    },
    "id": "eNvdXv5ygY_G",
    "outputId": "a2b60399-d235-4330-9035-8c0744055aa2"
   },
   "outputs": [
    {
     "data": {
      "text/plain": [
       "DZ                         object\n",
       "INTERMEDIATE_ZONE          object\n",
       "COUNCIL_AREA               object\n",
       "TOTAL_POPULATION            int64\n",
       "WORKING_AGE_POPULATION      int64\n",
       "INCOME_RATE               float64\n",
       "INCOME_COUNT                int64\n",
       "EMPLOYMENT_RATE           float64\n",
       "EMPLOYMENT_COUNT            int64\n",
       "CIF                        object\n",
       "ALCOHOL                   float64\n",
       "DRUG                      float64\n",
       "SMR                         int64\n",
       "DEPRESS                    object\n",
       "LBWT                       object\n",
       "EMERG                     float64\n",
       "ATTENDANCE                float64\n",
       "ATTAINMENT                 object\n",
       "NO_QUALIFICATIONS         float64\n",
       "NOT_PARTICIPATING         float64\n",
       "UNIVERSITY                 object\n",
       "DRIVE_PETROL              float64\n",
       "DRIVE_GP                  float64\n",
       "DRIVE_POST                float64\n",
       "DRIVE_PRIMARY             float64\n",
       "DRIVE_RETAIL              float64\n",
       "DRIVE_SECONDARY           float64\n",
       "PT_GP                     float64\n",
       "PT_POST                   float64\n",
       "PT_RETAIL                 float64\n",
       "CRIME_COUNT                object\n",
       "CRIME_RATE                 object\n",
       "OVERCROWDED_COUNT           int64\n",
       "NOCENTRALHEATING_COUNT      int64\n",
       "OVERCROWDED_RATE          float64\n",
       "NOCENTRALHEATING_RATE     float64\n",
       "dtype: object"
      ]
     },
     "execution_count": 14,
     "metadata": {},
     "output_type": "execute_result"
    }
   ],
   "source": [
    "# check datatype for df16\n",
    "df16.dtypes"
   ]
  },
  {
   "cell_type": "code",
   "execution_count": 15,
   "metadata": {
    "colab": {
     "base_uri": "https://localhost:8080/"
    },
    "executionInfo": {
     "elapsed": 212,
     "status": "ok",
     "timestamp": 1699629830275,
     "user": {
      "displayName": "Feni Fauziah",
      "userId": "05215426566664694918"
     },
     "user_tz": 0
    },
    "id": "AqDautqCgeBH",
    "outputId": "93ea7db0-b97c-4492-b522-e03bcdeab0ae"
   },
   "outputs": [
    {
     "name": "stdout",
     "output_type": "stream",
     "text": [
      "Columns with at least one 0: Index(['INCOME_RATE', 'INCOME_COUNT', 'EMPLOYMENT_RATE', 'ALCOHOL', 'DRUG',\n",
      "       'LBWT', 'NOT_PARTICIPATING', 'UNIVERSITY', 'OVERCROWDED_COUNT',\n",
      "       'NOCENTRALHEATING_COUNT', 'OVERCROWDED_RATE', 'NOCENTRALHEATING_RATE'],\n",
      "      dtype='object')\n"
     ]
    }
   ],
   "source": [
    "# check if data has 0 value.\n",
    "columns_with_zeros = df16.columns[(df16 == 0).any()]\n",
    "\n",
    "# Print the columns with at least one 0\n",
    "print(\"Columns with at least one 0:\", columns_with_zeros)"
   ]
  },
  {
   "cell_type": "code",
   "execution_count": 20,
   "metadata": {
    "id": "nh1SbFjSYKYf"
   },
   "outputs": [],
   "source": [
    "\n",
    "# change column name 2016\n",
    "column_name_mapping16 = {\n",
    "  'DZname':'INTERMEDIATE_ZONE',\n",
    "}\n",
    "\n",
    "# Use the rename method to update column names\n",
    "df20_DZ.rename(columns=column_name_mapping16, inplace=True)"
   ]
  },
  {
   "cell_type": "markdown",
   "metadata": {},
   "source": [
    "The 2016 indicator data is ready to use."
   ]
  },
  {
   "cell_type": "markdown",
   "metadata": {
    "id": "8Vah0t4f5lZW"
   },
   "source": [
    "# 2020 DATAZONE\n",
    "Since both 2016 and 2020 indicator file does not have a detailed information on the sub areas of Edinburgh, and that both columns for 2020 and 2016 are the same and have the same datazone IDs, we can use the 2020 Datazone to merge the information we need on the sub areas of Edinburgh."
   ]
  },
  {
   "cell_type": "code",
   "execution_count": 17,
   "metadata": {
    "colab": {
     "base_uri": "https://localhost:8080/",
     "height": 516
    },
    "executionInfo": {
     "elapsed": 5312,
     "status": "ok",
     "timestamp": 1699629838469,
     "user": {
      "displayName": "Feni Fauziah",
      "userId": "05215426566664694918"
     },
     "user_tz": 0
    },
    "id": "liQR3kWy5ngO",
    "outputId": "f8009bc0-0d97-43fa-cc9c-d5c92a7825f3"
   },
   "outputs": [
    {
     "data": {
      "text/html": [
       "<div>\n",
       "<style scoped>\n",
       "    .dataframe tbody tr th:only-of-type {\n",
       "        vertical-align: middle;\n",
       "    }\n",
       "\n",
       "    .dataframe tbody tr th {\n",
       "        vertical-align: top;\n",
       "    }\n",
       "\n",
       "    .dataframe thead th {\n",
       "        text-align: right;\n",
       "    }\n",
       "</style>\n",
       "<table border=\"1\" class=\"dataframe\">\n",
       "  <thead>\n",
       "    <tr style=\"text-align: right;\">\n",
       "      <th></th>\n",
       "      <th>DZ</th>\n",
       "      <th>DZname</th>\n",
       "      <th>SIMD2020v2_Rank</th>\n",
       "      <th>SIMD2020v2_Vigintile</th>\n",
       "      <th>SIMD2020v2_Decile</th>\n",
       "      <th>SIMD2020v2_Quintile</th>\n",
       "      <th>SIMD2020v2_Income_Domain_Rank</th>\n",
       "      <th>SIMD2020_Employment_Domain_Rank</th>\n",
       "      <th>SIMD2020_Education_Domain_Rank</th>\n",
       "      <th>SIMD2020_Health_Domain_Rank</th>\n",
       "      <th>...</th>\n",
       "      <th>IZcode</th>\n",
       "      <th>IZname</th>\n",
       "      <th>LAcode</th>\n",
       "      <th>LAname</th>\n",
       "      <th>HBcode</th>\n",
       "      <th>HBname</th>\n",
       "      <th>MMWcode</th>\n",
       "      <th>MMWname</th>\n",
       "      <th>SPCcode</th>\n",
       "      <th>SPCname</th>\n",
       "    </tr>\n",
       "  </thead>\n",
       "  <tbody>\n",
       "    <tr>\n",
       "      <th>0</th>\n",
       "      <td>S01006506</td>\n",
       "      <td>Culter - 01</td>\n",
       "      <td>4691</td>\n",
       "      <td>14</td>\n",
       "      <td>7</td>\n",
       "      <td>4</td>\n",
       "      <td>3936.0</td>\n",
       "      <td>3220.0</td>\n",
       "      <td>5887</td>\n",
       "      <td>5174</td>\n",
       "      <td>...</td>\n",
       "      <td>S02001236</td>\n",
       "      <td>Culter</td>\n",
       "      <td>S12000033</td>\n",
       "      <td>Aberdeen City</td>\n",
       "      <td>S08000020</td>\n",
       "      <td>Grampian</td>\n",
       "      <td>S13002843</td>\n",
       "      <td>Lower Deeside</td>\n",
       "      <td>S16000076</td>\n",
       "      <td>Aberdeen South and North Kincardine</td>\n",
       "    </tr>\n",
       "    <tr>\n",
       "      <th>1</th>\n",
       "      <td>S01006507</td>\n",
       "      <td>Culter - 02</td>\n",
       "      <td>4862</td>\n",
       "      <td>14</td>\n",
       "      <td>7</td>\n",
       "      <td>4</td>\n",
       "      <td>4829.0</td>\n",
       "      <td>4481.0</td>\n",
       "      <td>4384</td>\n",
       "      <td>5051</td>\n",
       "      <td>...</td>\n",
       "      <td>S02001236</td>\n",
       "      <td>Culter</td>\n",
       "      <td>S12000033</td>\n",
       "      <td>Aberdeen City</td>\n",
       "      <td>S08000020</td>\n",
       "      <td>Grampian</td>\n",
       "      <td>S13002843</td>\n",
       "      <td>Lower Deeside</td>\n",
       "      <td>S16000076</td>\n",
       "      <td>Aberdeen South and North Kincardine</td>\n",
       "    </tr>\n",
       "    <tr>\n",
       "      <th>2</th>\n",
       "      <td>S01006508</td>\n",
       "      <td>Culter - 03</td>\n",
       "      <td>5686</td>\n",
       "      <td>17</td>\n",
       "      <td>9</td>\n",
       "      <td>5</td>\n",
       "      <td>4460.0</td>\n",
       "      <td>5110.0</td>\n",
       "      <td>5915</td>\n",
       "      <td>5942</td>\n",
       "      <td>...</td>\n",
       "      <td>S02001236</td>\n",
       "      <td>Culter</td>\n",
       "      <td>S12000033</td>\n",
       "      <td>Aberdeen City</td>\n",
       "      <td>S08000020</td>\n",
       "      <td>Grampian</td>\n",
       "      <td>S13002843</td>\n",
       "      <td>Lower Deeside</td>\n",
       "      <td>S16000076</td>\n",
       "      <td>Aberdeen South and North Kincardine</td>\n",
       "    </tr>\n",
       "    <tr>\n",
       "      <th>3</th>\n",
       "      <td>S01006509</td>\n",
       "      <td>Culter - 04</td>\n",
       "      <td>4332</td>\n",
       "      <td>13</td>\n",
       "      <td>7</td>\n",
       "      <td>4</td>\n",
       "      <td>3481.0</td>\n",
       "      <td>3229.0</td>\n",
       "      <td>6401</td>\n",
       "      <td>3871</td>\n",
       "      <td>...</td>\n",
       "      <td>S02001236</td>\n",
       "      <td>Culter</td>\n",
       "      <td>S12000033</td>\n",
       "      <td>Aberdeen City</td>\n",
       "      <td>S08000020</td>\n",
       "      <td>Grampian</td>\n",
       "      <td>S13002843</td>\n",
       "      <td>Lower Deeside</td>\n",
       "      <td>S16000076</td>\n",
       "      <td>Aberdeen South and North Kincardine</td>\n",
       "    </tr>\n",
       "    <tr>\n",
       "      <th>4</th>\n",
       "      <td>S01006510</td>\n",
       "      <td>Culter - 05</td>\n",
       "      <td>3913</td>\n",
       "      <td>12</td>\n",
       "      <td>6</td>\n",
       "      <td>3</td>\n",
       "      <td>3344.0</td>\n",
       "      <td>3448.0</td>\n",
       "      <td>4092</td>\n",
       "      <td>3049</td>\n",
       "      <td>...</td>\n",
       "      <td>S02001236</td>\n",
       "      <td>Culter</td>\n",
       "      <td>S12000033</td>\n",
       "      <td>Aberdeen City</td>\n",
       "      <td>S08000020</td>\n",
       "      <td>Grampian</td>\n",
       "      <td>S13002843</td>\n",
       "      <td>Lower Deeside</td>\n",
       "      <td>S16000076</td>\n",
       "      <td>Aberdeen South and North Kincardine</td>\n",
       "    </tr>\n",
       "  </tbody>\n",
       "</table>\n",
       "<p>5 rows × 27 columns</p>\n",
       "</div>"
      ],
      "text/plain": [
       "          DZ       DZname  SIMD2020v2_Rank  SIMD2020v2_Vigintile  \\\n",
       "0  S01006506  Culter - 01             4691                    14   \n",
       "1  S01006507  Culter - 02             4862                    14   \n",
       "2  S01006508  Culter - 03             5686                    17   \n",
       "3  S01006509  Culter - 04             4332                    13   \n",
       "4  S01006510  Culter - 05             3913                    12   \n",
       "\n",
       "   SIMD2020v2_Decile  SIMD2020v2_Quintile  SIMD2020v2_Income_Domain_Rank  \\\n",
       "0                  7                    4                         3936.0   \n",
       "1                  7                    4                         4829.0   \n",
       "2                  9                    5                         4460.0   \n",
       "3                  7                    4                         3481.0   \n",
       "4                  6                    3                         3344.0   \n",
       "\n",
       "   SIMD2020_Employment_Domain_Rank  SIMD2020_Education_Domain_Rank  \\\n",
       "0                           3220.0                            5887   \n",
       "1                           4481.0                            4384   \n",
       "2                           5110.0                            5915   \n",
       "3                           3229.0                            6401   \n",
       "4                           3448.0                            4092   \n",
       "\n",
       "   SIMD2020_Health_Domain_Rank  ...     IZcode  IZname     LAcode  \\\n",
       "0                         5174  ...  S02001236  Culter  S12000033   \n",
       "1                         5051  ...  S02001236  Culter  S12000033   \n",
       "2                         5942  ...  S02001236  Culter  S12000033   \n",
       "3                         3871  ...  S02001236  Culter  S12000033   \n",
       "4                         3049  ...  S02001236  Culter  S12000033   \n",
       "\n",
       "          LAname     HBcode    HBname    MMWcode        MMWname    SPCcode  \\\n",
       "0  Aberdeen City  S08000020  Grampian  S13002843  Lower Deeside  S16000076   \n",
       "1  Aberdeen City  S08000020  Grampian  S13002843  Lower Deeside  S16000076   \n",
       "2  Aberdeen City  S08000020  Grampian  S13002843  Lower Deeside  S16000076   \n",
       "3  Aberdeen City  S08000020  Grampian  S13002843  Lower Deeside  S16000076   \n",
       "4  Aberdeen City  S08000020  Grampian  S13002843  Lower Deeside  S16000076   \n",
       "\n",
       "                               SPCname  \n",
       "0  Aberdeen South and North Kincardine  \n",
       "1  Aberdeen South and North Kincardine  \n",
       "2  Aberdeen South and North Kincardine  \n",
       "3  Aberdeen South and North Kincardine  \n",
       "4  Aberdeen South and North Kincardine  \n",
       "\n",
       "[5 rows x 27 columns]"
      ]
     },
     "execution_count": 17,
     "metadata": {},
     "output_type": "execute_result"
    }
   ],
   "source": [
    "# get data for 2020 datazone\n",
    "sheet='SIMD 2020v2 DZ lookup data'\n",
    "df20_DZ = pd.read_excel('datazone2020.xlsx',\n",
    "                   sheet_name=sheet)\n",
    "df20_DZ.head()"
   ]
  },
  {
   "cell_type": "code",
   "execution_count": 18,
   "metadata": {
    "colab": {
     "base_uri": "https://localhost:8080/"
    },
    "executionInfo": {
     "elapsed": 241,
     "status": "ok",
     "timestamp": 1699629842463,
     "user": {
      "displayName": "Feni Fauziah",
      "userId": "05215426566664694918"
     },
     "user_tz": 0
    },
    "id": "xKt1fqH86GRO",
    "outputId": "c104ee7b-e1f2-42e9-c918-51dc1317c348"
   },
   "outputs": [
    {
     "data": {
      "text/plain": [
       "597"
      ]
     },
     "execution_count": 18,
     "metadata": {},
     "output_type": "execute_result"
    }
   ],
   "source": [
    "# filter for Edinburgh\n",
    "df20_DZ = df20_DZ[df20_DZ['LAname']=='City of Edinburgh']\n",
    "# calculate number of rows of dataframe\n",
    "df20_DZ.shape[0]\n"
   ]
  },
  {
   "cell_type": "code",
   "execution_count": 21,
   "metadata": {
    "id": "lI-94x1C67z8"
   },
   "outputs": [],
   "source": [
    "# reset index\n",
    "df20_DZ = df20_DZ.reset_index(drop=True)"
   ]
  },
  {
   "cell_type": "code",
   "execution_count": 22,
   "metadata": {
    "colab": {
     "base_uri": "https://localhost:8080/"
    },
    "executionInfo": {
     "elapsed": 310,
     "status": "ok",
     "timestamp": 1699629849560,
     "user": {
      "displayName": "Feni Fauziah",
      "userId": "05215426566664694918"
     },
     "user_tz": 0
    },
    "id": "SMVOHuAeos_I",
    "outputId": "db4e36da-4138-404f-d5f2-ef656020d386"
   },
   "outputs": [
    {
     "name": "stdout",
     "output_type": "stream",
     "text": [
      "Columns with at least one 0: Index(['INCOME_RATE', 'INCOME_COUNT', 'EMPLOYMENT_RATE', 'ALCOHOL', 'DRUG',\n",
      "       'LBWT', 'NOT_PARTICIPATING', 'UNIVERSITY', 'OVERCROWDED_COUNT',\n",
      "       'NOCENTRALHEATING_COUNT', 'OVERCROWDED_RATE', 'NOCENTRALHEATING_RATE',\n",
      "       'BROADBAND'],\n",
      "      dtype='object')\n"
     ]
    }
   ],
   "source": [
    "columns_with_zeros = df20.columns[(df20 == 0).any()]\n",
    "df20_DZ.columns = [column.upper() for column in df20_DZ.columns]\n",
    "\n",
    "# Print the columns with at least one 0\n",
    "print(\"Columns with at least one 0:\", columns_with_zeros)"
   ]
  },
  {
   "cell_type": "markdown",
   "metadata": {
    "id": "U6rD7pmgYwo1"
   },
   "source": [
    "# add sub area details into 2016 and 2020 indicators"
   ]
  },
  {
   "cell_type": "code",
   "execution_count": 31,
   "metadata": {
    "colab": {
     "base_uri": "https://localhost:8080/"
    },
    "executionInfo": {
     "elapsed": 306,
     "status": "ok",
     "timestamp": 1699025837481,
     "user": {
      "displayName": "Nadira Amelia",
      "userId": "00948386670374674038"
     },
     "user_tz": 0
    },
    "id": "Him-mZBsYuvi",
    "outputId": "3c3440ba-7beb-45b9-dfe1-1bc252bb8ea4"
   },
   "outputs": [
    {
     "data": {
      "text/plain": [
       "597"
      ]
     },
     "execution_count": 31,
     "metadata": {},
     "output_type": "execute_result"
    }
   ],
   "source": [
    "# merge 2016 indicators with 2020 datazone\n",
    "m_df16 = pd.merge(df16,df20_DZ[['DZ','SPCNAME']], on=['DZ'], how='left')\n",
    "\n",
    "m_df16.shape[0]"
   ]
  },
  {
   "cell_type": "code",
   "execution_count": 28,
   "metadata": {
    "id": "tzQ6gmm0cNm3"
   },
   "outputs": [],
   "source": [
    "# merge 2020 indicators with 2020 datazone\n",
    "m_df20 = pd.merge(df20,df20_DZ[['DZ','SPCNAME']], on=['DZ'], how='left')\n",
    "\n"
   ]
  },
  {
   "cell_type": "code",
   "execution_count": 37,
   "metadata": {
    "colab": {
     "base_uri": "https://localhost:8080/",
     "height": 250
    },
    "executionInfo": {
     "elapsed": 201,
     "status": "error",
     "timestamp": 1699025890416,
     "user": {
      "displayName": "Nadira Amelia",
      "userId": "00948386670374674038"
     },
     "user_tz": 0
    },
    "id": "sJOABDvXeLuk",
    "outputId": "b25f324c-4e7a-4654-d58d-d468c27eda12"
   },
   "outputs": [],
   "source": [
    "# assert not m_df20.empty, \"DataFrame is empty\"\n",
    "assert not m_df16.empty, \"DataFrame is empty\"\n",
    "assert not df20.empty, \"DataFrame is empty\"\n",
    "assert not df16.empty, \"DataFrame is empty\"\n",
    "# assert not df20_PCDZ.empty, \"DataFrame is empty\"\n",
    "assert not df20_DZ.empty, \"DataFrame is empty\"\n",
    "assert not df20_PC.empty, \"DataFrame is empty\""
   ]
  },
  {
   "cell_type": "markdown",
   "metadata": {
    "id": "hyJQ-I27UF11"
   },
   "source": [
    "# Concat Both 2016 and 2020\n",
    "\n",
    "\n",
    "1.   CONCAT\n",
    "2.   CHECK IF DATA IS CORRECT\n",
    "\n"
   ]
  },
  {
   "cell_type": "code",
   "execution_count": 32,
   "metadata": {
    "id": "qyy4-X_1Udkn"
   },
   "outputs": [],
   "source": [
    "# add a column with the 'year' of data to later merge both dataframes.\n",
    "m_df16['YEAR']= 2016\n",
    "m_df20['YEAR']= 2020"
   ]
  },
  {
   "cell_type": "code",
   "execution_count": 38,
   "metadata": {
    "colab": {
     "base_uri": "https://localhost:8080/"
    },
    "executionInfo": {
     "elapsed": 395,
     "status": "ok",
     "timestamp": 1699030559953,
     "user": {
      "displayName": "Nadira Amelia",
      "userId": "00948386670374674038"
     },
     "user_tz": 0
    },
    "id": "dctzR1YIVEA2",
    "outputId": "6d6b07ed-c41c-4407-9be9-57bd4b4b1266"
   },
   "outputs": [],
   "source": [
    "# concat 2016 and 2020 into 1 dataframe\n",
    "m_df= pd.concat([m_df16, m_df20])\n",
    "\n",
    "\n"
   ]
  },
  {
   "cell_type": "markdown",
   "metadata": {
    "id": "4jfuG5JciThr"
   },
   "source": [
    "2020 has more columns than 2016. So when it is merged, it adds up to 64 column in total, with 28 columns added.\n",
    "\n",
    "each have 19311 rows, if total, it will be 38622, the same amount as the one merged."
   ]
  },
  {
   "cell_type": "code",
   "execution_count": 34,
   "metadata": {
    "colab": {
     "base_uri": "https://localhost:8080/"
    },
    "executionInfo": {
     "elapsed": 287,
     "status": "ok",
     "timestamp": 1699025932209,
     "user": {
      "displayName": "Nadira Amelia",
      "userId": "00948386670374674038"
     },
     "user_tz": 0
    },
    "id": "LHIG27OTohYp",
    "outputId": "fd484829-1b03-4e31-e681-b3dc06b45290"
   },
   "outputs": [
    {
     "name": "stdout",
     "output_type": "stream",
     "text": [
      "Columns with at least one 0: Index(['INCOME_RATE', 'INCOME_COUNT', 'EMPLOYMENT_RATE', 'ALCOHOL', 'DRUG',\n",
      "       'LBWT', 'NOT_PARTICIPATING', 'UNIVERSITY', 'OVERCROWDED_COUNT',\n",
      "       'NOCENTRALHEATING_COUNT', 'OVERCROWDED_RATE', 'NOCENTRALHEATING_RATE',\n",
      "       'BROADBAND'],\n",
      "      dtype='object')\n"
     ]
    }
   ],
   "source": [
    "columns_with_zeros = m_df.columns[(m_df == 0).any()]\n",
    "\n",
    "# Print the columns with at least one 0\n",
    "print(\"Columns with at least one 0:\", columns_with_zeros)"
   ]
  },
  {
   "cell_type": "markdown",
   "metadata": {},
   "source": [
    "We see that there are some datas in some columns with a 0."
   ]
  },
  {
   "cell_type": "code",
   "execution_count": null,
   "metadata": {
    "colab": {
     "base_uri": "https://localhost:8080/"
    },
    "executionInfo": {
     "elapsed": 272,
     "status": "ok",
     "timestamp": 1698930789780,
     "user": {
      "displayName": "Nadira Amelia",
      "userId": "00948386670374674038"
     },
     "user_tz": 0
    },
    "id": "21oDLEJ6qE0V",
    "outputId": "a24ed556-467c-405c-8db5-641928d28343"
   },
   "outputs": [
    {
     "name": "stdout",
     "output_type": "stream",
     "text": [
      "Columns that have empty('') value: Index(['ATTENDANCE', 'ATTAINMENT', 'CRIME_COUNT', 'CRIME_RATE'], dtype='object')\n"
     ]
    }
   ],
   "source": [
    "# Code to check if theres an empty column\n",
    "columns_with_emp = m_df.columns[(m_df == '').any()]\n",
    "\n",
    "# Print the columns with at least one 0\n",
    "print(\"Columns that have empty('') value:\", columns_with_emp)"
   ]
  },
  {
   "cell_type": "markdown",
   "metadata": {
    "colab": {
     "base_uri": "https://localhost:8080/"
    },
    "executionInfo": {
     "elapsed": 247,
     "status": "ok",
     "timestamp": 1698930794387,
     "user": {
      "displayName": "Nadira Amelia",
      "userId": "00948386670374674038"
     },
     "user_tz": 0
    },
    "id": "RmE7syq5VQVJ",
    "outputId": "0ac7c7e5-f86f-4b03-9fdd-4fb6558a5d4a"
   },
   "source": [
    "We see that there are missing datas on 4 columns. This is because the data either is unavailable or inconclusive."
   ]
  },
  {
   "cell_type": "code",
   "execution_count": 35,
   "metadata": {
    "colab": {
     "base_uri": "https://localhost:8080/",
     "height": 179
    },
    "executionInfo": {
     "elapsed": 12,
     "status": "error",
     "timestamp": 1699123799032,
     "user": {
      "displayName": "Feni Fauziah",
      "userId": "05215426566664694918"
     },
     "user_tz": 0
    },
    "id": "4XVj3kP1q0cC",
    "outputId": "7035679f-ce86-40be-b09a-0c0ad8cda1bb"
   },
   "outputs": [
    {
     "data": {
      "text/html": [
       "<div>\n",
       "<style scoped>\n",
       "    .dataframe tbody tr th:only-of-type {\n",
       "        vertical-align: middle;\n",
       "    }\n",
       "\n",
       "    .dataframe tbody tr th {\n",
       "        vertical-align: top;\n",
       "    }\n",
       "\n",
       "    .dataframe thead th {\n",
       "        text-align: right;\n",
       "    }\n",
       "</style>\n",
       "<table border=\"1\" class=\"dataframe\">\n",
       "  <thead>\n",
       "    <tr style=\"text-align: right;\">\n",
       "      <th></th>\n",
       "      <th>TOTAL_POPULATION</th>\n",
       "      <th>WORKING_AGE_POPULATION</th>\n",
       "      <th>INCOME_RATE</th>\n",
       "      <th>INCOME_COUNT</th>\n",
       "      <th>EMPLOYMENT_RATE</th>\n",
       "      <th>EMPLOYMENT_COUNT</th>\n",
       "      <th>ALCOHOL</th>\n",
       "      <th>DRUG</th>\n",
       "      <th>SMR</th>\n",
       "      <th>EMERG</th>\n",
       "      <th>...</th>\n",
       "      <th>DECILE_RANK</th>\n",
       "      <th>QUINTILE_RANK</th>\n",
       "      <th>INCOME_DOMAIN_RANK</th>\n",
       "      <th>EMPLOYMENT_DOMAIN_RANK</th>\n",
       "      <th>HEALTH_DOMAIN_RANK</th>\n",
       "      <th>EDUCATION_DOMAIN_RANK</th>\n",
       "      <th>ACCESS_DOMAIN_RANK</th>\n",
       "      <th>CRIME_DOMAIN_RANK</th>\n",
       "      <th>HOUSING_DOMAIN_RANK</th>\n",
       "      <th>BROADBAND</th>\n",
       "    </tr>\n",
       "  </thead>\n",
       "  <tbody>\n",
       "    <tr>\n",
       "      <th>count</th>\n",
       "      <td>1194.000000</td>\n",
       "      <td>1194.000000</td>\n",
       "      <td>1194.000000</td>\n",
       "      <td>1194.000000</td>\n",
       "      <td>1194.000000</td>\n",
       "      <td>1194.000000</td>\n",
       "      <td>1194.000000</td>\n",
       "      <td>1194.000000</td>\n",
       "      <td>1194.000000</td>\n",
       "      <td>1194.000000</td>\n",
       "      <td>...</td>\n",
       "      <td>597.000000</td>\n",
       "      <td>597.000000</td>\n",
       "      <td>597.000000</td>\n",
       "      <td>597.000000</td>\n",
       "      <td>597.000000</td>\n",
       "      <td>597.000000</td>\n",
       "      <td>597.000000</td>\n",
       "      <td>597.000000</td>\n",
       "      <td>597.000000</td>\n",
       "      <td>597.000000</td>\n",
       "    </tr>\n",
       "    <tr>\n",
       "      <th>mean</th>\n",
       "      <td>842.453936</td>\n",
       "      <td>585.755444</td>\n",
       "      <td>0.091667</td>\n",
       "      <td>75.796482</td>\n",
       "      <td>0.075804</td>\n",
       "      <td>43.262144</td>\n",
       "      <td>87.089255</td>\n",
       "      <td>98.947995</td>\n",
       "      <td>95.033656</td>\n",
       "      <td>80.360345</td>\n",
       "      <td>...</td>\n",
       "      <td>6.939698</td>\n",
       "      <td>3.666667</td>\n",
       "      <td>4371.351759</td>\n",
       "      <td>4502.532663</td>\n",
       "      <td>4587.452261</td>\n",
       "      <td>4289.541039</td>\n",
       "      <td>4513.097152</td>\n",
       "      <td>2888.760469</td>\n",
       "      <td>2687.542714</td>\n",
       "      <td>0.013476</td>\n",
       "    </tr>\n",
       "    <tr>\n",
       "      <th>std</th>\n",
       "      <td>247.606981</td>\n",
       "      <td>227.994236</td>\n",
       "      <td>0.088593</td>\n",
       "      <td>73.697642</td>\n",
       "      <td>0.071845</td>\n",
       "      <td>40.865828</td>\n",
       "      <td>84.063802</td>\n",
       "      <td>140.084405</td>\n",
       "      <td>54.093786</td>\n",
       "      <td>29.943385</td>\n",
       "      <td>...</td>\n",
       "      <td>3.005540</td>\n",
       "      <td>1.447439</td>\n",
       "      <td>2037.421411</td>\n",
       "      <td>2050.002744</td>\n",
       "      <td>2055.824312</td>\n",
       "      <td>2247.377007</td>\n",
       "      <td>1736.945035</td>\n",
       "      <td>1736.703108</td>\n",
       "      <td>2252.432596</td>\n",
       "      <td>0.044275</td>\n",
       "    </tr>\n",
       "    <tr>\n",
       "      <th>min</th>\n",
       "      <td>258.000000</td>\n",
       "      <td>188.000000</td>\n",
       "      <td>0.000000</td>\n",
       "      <td>0.000000</td>\n",
       "      <td>0.000000</td>\n",
       "      <td>2.000000</td>\n",
       "      <td>0.000000</td>\n",
       "      <td>0.000000</td>\n",
       "      <td>9.000000</td>\n",
       "      <td>29.717474</td>\n",
       "      <td>...</td>\n",
       "      <td>1.000000</td>\n",
       "      <td>1.000000</td>\n",
       "      <td>34.000000</td>\n",
       "      <td>10.000000</td>\n",
       "      <td>25.000000</td>\n",
       "      <td>35.000000</td>\n",
       "      <td>599.000000</td>\n",
       "      <td>6.000000</td>\n",
       "      <td>2.000000</td>\n",
       "      <td>0.000000</td>\n",
       "    </tr>\n",
       "    <tr>\n",
       "      <th>25%</th>\n",
       "      <td>699.250000</td>\n",
       "      <td>460.000000</td>\n",
       "      <td>0.030000</td>\n",
       "      <td>20.000000</td>\n",
       "      <td>0.020000</td>\n",
       "      <td>14.000000</td>\n",
       "      <td>27.718833</td>\n",
       "      <td>0.000000</td>\n",
       "      <td>62.917006</td>\n",
       "      <td>57.833182</td>\n",
       "      <td>...</td>\n",
       "      <td>4.000000</td>\n",
       "      <td>2.000000</td>\n",
       "      <td>2799.000000</td>\n",
       "      <td>3010.000000</td>\n",
       "      <td>2956.000000</td>\n",
       "      <td>2224.000000</td>\n",
       "      <td>3111.000000</td>\n",
       "      <td>1429.000000</td>\n",
       "      <td>676.000000</td>\n",
       "      <td>0.000000</td>\n",
       "    </tr>\n",
       "    <tr>\n",
       "      <th>50%</th>\n",
       "      <td>825.000000</td>\n",
       "      <td>547.000000</td>\n",
       "      <td>0.060000</td>\n",
       "      <td>50.000000</td>\n",
       "      <td>0.050000</td>\n",
       "      <td>28.000000</td>\n",
       "      <td>61.522965</td>\n",
       "      <td>44.551970</td>\n",
       "      <td>83.844050</td>\n",
       "      <td>71.505885</td>\n",
       "      <td>...</td>\n",
       "      <td>8.000000</td>\n",
       "      <td>4.000000</td>\n",
       "      <td>4718.000000</td>\n",
       "      <td>4977.000000</td>\n",
       "      <td>5233.000000</td>\n",
       "      <td>4812.000000</td>\n",
       "      <td>4707.000000</td>\n",
       "      <td>2835.000000</td>\n",
       "      <td>2003.000000</td>\n",
       "      <td>0.000000</td>\n",
       "    </tr>\n",
       "    <tr>\n",
       "      <th>75%</th>\n",
       "      <td>950.750000</td>\n",
       "      <td>659.750000</td>\n",
       "      <td>0.130000</td>\n",
       "      <td>110.000000</td>\n",
       "      <td>0.100000</td>\n",
       "      <td>61.000000</td>\n",
       "      <td>119.413713</td>\n",
       "      <td>133.813264</td>\n",
       "      <td>114.000000</td>\n",
       "      <td>99.176952</td>\n",
       "      <td>...</td>\n",
       "      <td>10.000000</td>\n",
       "      <td>5.000000</td>\n",
       "      <td>6247.000000</td>\n",
       "      <td>6354.000000</td>\n",
       "      <td>6410.000000</td>\n",
       "      <td>6431.000000</td>\n",
       "      <td>6041.000000</td>\n",
       "      <td>4210.000000</td>\n",
       "      <td>4762.000000</td>\n",
       "      <td>0.000000</td>\n",
       "    </tr>\n",
       "    <tr>\n",
       "      <th>max</th>\n",
       "      <td>3847.000000</td>\n",
       "      <td>3423.000000</td>\n",
       "      <td>0.730000</td>\n",
       "      <td>405.000000</td>\n",
       "      <td>0.530000</td>\n",
       "      <td>230.000000</td>\n",
       "      <td>599.742840</td>\n",
       "      <td>1166.860679</td>\n",
       "      <td>718.491201</td>\n",
       "      <td>208.681633</td>\n",
       "      <td>...</td>\n",
       "      <td>10.000000</td>\n",
       "      <td>5.000000</td>\n",
       "      <td>6969.000000</td>\n",
       "      <td>6970.000000</td>\n",
       "      <td>6973.000000</td>\n",
       "      <td>6976.000000</td>\n",
       "      <td>6974.000000</td>\n",
       "      <td>6662.000000</td>\n",
       "      <td>6957.000000</td>\n",
       "      <td>0.352025</td>\n",
       "    </tr>\n",
       "  </tbody>\n",
       "</table>\n",
       "<p>8 rows × 39 columns</p>\n",
       "</div>"
      ],
      "text/plain": [
       "       TOTAL_POPULATION  WORKING_AGE_POPULATION  INCOME_RATE  INCOME_COUNT  \\\n",
       "count       1194.000000             1194.000000  1194.000000   1194.000000   \n",
       "mean         842.453936              585.755444     0.091667     75.796482   \n",
       "std          247.606981              227.994236     0.088593     73.697642   \n",
       "min          258.000000              188.000000     0.000000      0.000000   \n",
       "25%          699.250000              460.000000     0.030000     20.000000   \n",
       "50%          825.000000              547.000000     0.060000     50.000000   \n",
       "75%          950.750000              659.750000     0.130000    110.000000   \n",
       "max         3847.000000             3423.000000     0.730000    405.000000   \n",
       "\n",
       "       EMPLOYMENT_RATE  EMPLOYMENT_COUNT      ALCOHOL         DRUG  \\\n",
       "count      1194.000000       1194.000000  1194.000000  1194.000000   \n",
       "mean          0.075804         43.262144    87.089255    98.947995   \n",
       "std           0.071845         40.865828    84.063802   140.084405   \n",
       "min           0.000000          2.000000     0.000000     0.000000   \n",
       "25%           0.020000         14.000000    27.718833     0.000000   \n",
       "50%           0.050000         28.000000    61.522965    44.551970   \n",
       "75%           0.100000         61.000000   119.413713   133.813264   \n",
       "max           0.530000        230.000000   599.742840  1166.860679   \n",
       "\n",
       "               SMR        EMERG  ...  DECILE_RANK  QUINTILE_RANK  \\\n",
       "count  1194.000000  1194.000000  ...   597.000000     597.000000   \n",
       "mean     95.033656    80.360345  ...     6.939698       3.666667   \n",
       "std      54.093786    29.943385  ...     3.005540       1.447439   \n",
       "min       9.000000    29.717474  ...     1.000000       1.000000   \n",
       "25%      62.917006    57.833182  ...     4.000000       2.000000   \n",
       "50%      83.844050    71.505885  ...     8.000000       4.000000   \n",
       "75%     114.000000    99.176952  ...    10.000000       5.000000   \n",
       "max     718.491201   208.681633  ...    10.000000       5.000000   \n",
       "\n",
       "       INCOME_DOMAIN_RANK  EMPLOYMENT_DOMAIN_RANK  HEALTH_DOMAIN_RANK  \\\n",
       "count          597.000000              597.000000          597.000000   \n",
       "mean          4371.351759             4502.532663         4587.452261   \n",
       "std           2037.421411             2050.002744         2055.824312   \n",
       "min             34.000000               10.000000           25.000000   \n",
       "25%           2799.000000             3010.000000         2956.000000   \n",
       "50%           4718.000000             4977.000000         5233.000000   \n",
       "75%           6247.000000             6354.000000         6410.000000   \n",
       "max           6969.000000             6970.000000         6973.000000   \n",
       "\n",
       "       EDUCATION_DOMAIN_RANK  ACCESS_DOMAIN_RANK  CRIME_DOMAIN_RANK  \\\n",
       "count             597.000000          597.000000         597.000000   \n",
       "mean             4289.541039         4513.097152        2888.760469   \n",
       "std              2247.377007         1736.945035        1736.703108   \n",
       "min                35.000000          599.000000           6.000000   \n",
       "25%              2224.000000         3111.000000        1429.000000   \n",
       "50%              4812.000000         4707.000000        2835.000000   \n",
       "75%              6431.000000         6041.000000        4210.000000   \n",
       "max              6976.000000         6974.000000        6662.000000   \n",
       "\n",
       "       HOUSING_DOMAIN_RANK   BROADBAND  \n",
       "count           597.000000  597.000000  \n",
       "mean           2687.542714    0.013476  \n",
       "std            2252.432596    0.044275  \n",
       "min               2.000000    0.000000  \n",
       "25%             676.000000    0.000000  \n",
       "50%            2003.000000    0.000000  \n",
       "75%            4762.000000    0.000000  \n",
       "max            6957.000000    0.352025  \n",
       "\n",
       "[8 rows x 39 columns]"
      ]
     },
     "execution_count": 35,
     "metadata": {},
     "output_type": "execute_result"
    }
   ],
   "source": [
    "m_df.describe()"
   ]
  },
  {
   "cell_type": "markdown",
   "metadata": {},
   "source": [
    "# Export Dataframe to Excel"
   ]
  },
  {
   "cell_type": "code",
   "execution_count": 36,
   "metadata": {
    "id": "350c5U72bjhO"
   },
   "outputs": [],
   "source": [
    "m_df.to_excel('clean_1620.xlsx', index=False)\n",
    "\n"
   ]
  },
  {
   "cell_type": "markdown",
   "metadata": {},
   "source": [
    "And that concludes the data cleaning for the SIMD dataset."
   ]
  }
 ],
 "metadata": {
  "colab": {
   "provenance": []
  },
  "kernelspec": {
   "display_name": "Python 3 (ipykernel)",
   "language": "python",
   "name": "python3"
  },
  "language_info": {
   "codemirror_mode": {
    "name": "ipython",
    "version": 3
   },
   "file_extension": ".py",
   "mimetype": "text/x-python",
   "name": "python",
   "nbconvert_exporter": "python",
   "pygments_lexer": "ipython3",
   "version": "3.11.5"
  }
 },
 "nbformat": 4,
 "nbformat_minor": 1
}
