{
 "cells": [
  {
   "cell_type": "markdown",
   "metadata": {
    "id": "uY_I1KSOvJeO"
   },
   "source": [
    "# Data Cleaning on Financial Market Data\n",
    "Data is gathered from Bank of England and Office for National Statistics."
   ]
  },
  {
   "cell_type": "code",
   "execution_count": 1,
   "metadata": {
    "colab": {
     "base_uri": "https://localhost:8080/"
    },
    "executionInfo": {
     "elapsed": 1841,
     "status": "ok",
     "timestamp": 1698532167767,
     "user": {
      "displayName": "Nadira Amelia",
      "userId": "00948386670374674038"
     },
     "user_tz": -60
    },
    "id": "2QAwHHJDvGyf",
    "outputId": "ea68f3d9-372c-4fd7-edec-0b15feb347b7"
   },
   "outputs": [],
   "source": [
    "# import all files\n",
    "import pandas as pd\n",
    "\n",
    "\n",
    "#this code gets the certain sheet we want to upload.\n",
    "gdp = pd.read_excel('gdp.xlsx')\n",
    "cpih = pd.read_excel('CPIHAnnualRate.xlsx')\n",
    "bank_rate = pd.read_excel('BankRate.xlsx')\n"
   ]
  },
  {
   "cell_type": "markdown",
   "metadata": {
    "id": "wkj1KbWEw4aU"
   },
   "source": [
    "# Data Cleaning GDP\n",
    "Since the data here is by quarter, we need to change it to year, by calculating the average of each year."
   ]
  },
  {
   "cell_type": "code",
   "execution_count": 2,
   "metadata": {
    "colab": {
     "base_uri": "https://localhost:8080/",
     "height": 206
    },
    "executionInfo": {
     "elapsed": 29,
     "status": "ok",
     "timestamp": 1698532167767,
     "user": {
      "displayName": "Nadira Amelia",
      "userId": "00948386670374674038"
     },
     "user_tz": -60
    },
    "id": "v-s0rwhIw2F6",
    "outputId": "d2aa6544-ff9a-45d6-e098-719e8534ec73"
   },
   "outputs": [
    {
     "data": {
      "text/html": [
       "<div>\n",
       "<style scoped>\n",
       "    .dataframe tbody tr th:only-of-type {\n",
       "        vertical-align: middle;\n",
       "    }\n",
       "\n",
       "    .dataframe tbody tr th {\n",
       "        vertical-align: top;\n",
       "    }\n",
       "\n",
       "    .dataframe thead th {\n",
       "        text-align: right;\n",
       "    }\n",
       "</style>\n",
       "<table border=\"1\" class=\"dataframe\">\n",
       "  <thead>\n",
       "    <tr style=\"text-align: right;\">\n",
       "      <th></th>\n",
       "      <th>YEAR</th>\n",
       "      <th>GDP</th>\n",
       "    </tr>\n",
       "  </thead>\n",
       "  <tbody>\n",
       "    <tr>\n",
       "      <th>0</th>\n",
       "      <td>1955 Q2</td>\n",
       "      <td>0.0</td>\n",
       "    </tr>\n",
       "    <tr>\n",
       "      <th>1</th>\n",
       "      <td>1955 Q3</td>\n",
       "      <td>2.0</td>\n",
       "    </tr>\n",
       "    <tr>\n",
       "      <th>2</th>\n",
       "      <td>1955 Q4</td>\n",
       "      <td>-0.5</td>\n",
       "    </tr>\n",
       "    <tr>\n",
       "      <th>3</th>\n",
       "      <td>1956 Q1</td>\n",
       "      <td>1.1</td>\n",
       "    </tr>\n",
       "    <tr>\n",
       "      <th>4</th>\n",
       "      <td>1956 Q2</td>\n",
       "      <td>-0.1</td>\n",
       "    </tr>\n",
       "  </tbody>\n",
       "</table>\n",
       "</div>"
      ],
      "text/plain": [
       "      YEAR  GDP\n",
       "0  1955 Q2  0.0\n",
       "1  1955 Q3  2.0\n",
       "2  1955 Q4 -0.5\n",
       "3  1956 Q1  1.1\n",
       "4  1956 Q2 -0.1"
      ]
     },
     "execution_count": 2,
     "metadata": {},
     "output_type": "execute_result"
    }
   ],
   "source": [
    "# rename columns\n",
    "gdp = gdp.rename(columns={'gdp': 'rate'})\n",
    "gdp.head()"
   ]
  },
  {
   "cell_type": "code",
   "execution_count": 3,
   "metadata": {
    "colab": {
     "base_uri": "https://localhost:8080/",
     "height": 206
    },
    "executionInfo": {
     "elapsed": 25,
     "status": "ok",
     "timestamp": 1698532167767,
     "user": {
      "displayName": "Nadira Amelia",
      "userId": "00948386670374674038"
     },
     "user_tz": -60
    },
    "id": "LXAhGP6Cw01F",
    "outputId": "b9c228d3-2571-4116-8fd4-29d33de43b4b"
   },
   "outputs": [
    {
     "data": {
      "text/html": [
       "<div>\n",
       "<style scoped>\n",
       "    .dataframe tbody tr th:only-of-type {\n",
       "        vertical-align: middle;\n",
       "    }\n",
       "\n",
       "    .dataframe tbody tr th {\n",
       "        vertical-align: top;\n",
       "    }\n",
       "\n",
       "    .dataframe thead th {\n",
       "        text-align: right;\n",
       "    }\n",
       "</style>\n",
       "<table border=\"1\" class=\"dataframe\">\n",
       "  <thead>\n",
       "    <tr style=\"text-align: right;\">\n",
       "      <th></th>\n",
       "      <th>year</th>\n",
       "      <th>gdp</th>\n",
       "      <th>quarter</th>\n",
       "    </tr>\n",
       "  </thead>\n",
       "  <tbody>\n",
       "    <tr>\n",
       "      <th>0</th>\n",
       "      <td>1955</td>\n",
       "      <td>0.0</td>\n",
       "      <td>Q2</td>\n",
       "    </tr>\n",
       "    <tr>\n",
       "      <th>1</th>\n",
       "      <td>1955</td>\n",
       "      <td>2.0</td>\n",
       "      <td>Q3</td>\n",
       "    </tr>\n",
       "    <tr>\n",
       "      <th>2</th>\n",
       "      <td>1955</td>\n",
       "      <td>-0.5</td>\n",
       "      <td>Q4</td>\n",
       "    </tr>\n",
       "    <tr>\n",
       "      <th>3</th>\n",
       "      <td>1956</td>\n",
       "      <td>1.1</td>\n",
       "      <td>Q1</td>\n",
       "    </tr>\n",
       "    <tr>\n",
       "      <th>4</th>\n",
       "      <td>1956</td>\n",
       "      <td>-0.1</td>\n",
       "      <td>Q2</td>\n",
       "    </tr>\n",
       "  </tbody>\n",
       "</table>\n",
       "</div>"
      ],
      "text/plain": [
       "   year  gdp quarter\n",
       "0  1955  0.0      Q2\n",
       "1  1955  2.0      Q3\n",
       "2  1955 -0.5      Q4\n",
       "3  1956  1.1      Q1\n",
       "4  1956 -0.1      Q2"
      ]
     },
     "execution_count": 3,
     "metadata": {},
     "output_type": "execute_result"
    }
   ],
   "source": [
    "# lowercase all\n",
    "gdp.columns = [column.lower() for column in gdp.columns]\n",
    "\n",
    "\n",
    "# separate Quarter into new column\n",
    "gdp['quarter'] = gdp['year'].str[-3:]\n",
    "# remove Quarter from year\n",
    "gdp['year'] = gdp['year'].str[:-3]\n",
    "gdp.head()"
   ]
  },
  {
   "cell_type": "code",
   "execution_count": 4,
   "metadata": {
    "colab": {
     "base_uri": "https://localhost:8080/"
    },
    "executionInfo": {
     "elapsed": 24,
     "status": "ok",
     "timestamp": 1698532167767,
     "user": {
      "displayName": "Nadira Amelia",
      "userId": "00948386670374674038"
     },
     "user_tz": -60
    },
    "id": "apTo840l1UIJ",
    "outputId": "59ca980a-1d99-422e-ba36-dcc0d3229b86"
   },
   "outputs": [
    {
     "data": {
      "text/plain": [
       "year        object\n",
       "rate       float64\n",
       "quarter     object\n",
       "dtype: object"
      ]
     },
     "execution_count": 4,
     "metadata": {},
     "output_type": "execute_result"
    }
   ],
   "source": [
    "gdp = gdp.rename(columns={'gdp': 'rate'})\n",
    "\n",
    "gdp.dtypes"
   ]
  },
  {
   "cell_type": "code",
   "execution_count": 5,
   "metadata": {
    "colab": {
     "base_uri": "https://localhost:8080/"
    },
    "executionInfo": {
     "elapsed": 22,
     "status": "ok",
     "timestamp": 1698532167768,
     "user": {
      "displayName": "Nadira Amelia",
      "userId": "00948386670374674038"
     },
     "user_tz": -60
    },
    "id": "XYclU3sV1msI",
    "outputId": "d594b129-9838-4628-f136-bbf13fd17fa9"
   },
   "outputs": [
    {
     "data": {
      "text/plain": [
       "year         int64\n",
       "rate       float64\n",
       "quarter     object\n",
       "dtype: object"
      ]
     },
     "execution_count": 5,
     "metadata": {},
     "output_type": "execute_result"
    }
   ],
   "source": [
    "# change year to integer\n",
    "gdp['year']=gdp['year'].astype(int)\n",
    "gdp.dtypes"
   ]
  },
  {
   "cell_type": "code",
   "execution_count": 6,
   "metadata": {
    "colab": {
     "base_uri": "https://localhost:8080/",
     "height": 206
    },
    "executionInfo": {
     "elapsed": 20,
     "status": "ok",
     "timestamp": 1698532167768,
     "user": {
      "displayName": "Nadira Amelia",
      "userId": "00948386670374674038"
     },
     "user_tz": -60
    },
    "id": "a2LRfOG82k82",
    "outputId": "31f322f6-5815-43c3-d3be-cbdd359ff258"
   },
   "outputs": [
    {
     "data": {
      "text/html": [
       "<div>\n",
       "<style scoped>\n",
       "    .dataframe tbody tr th:only-of-type {\n",
       "        vertical-align: middle;\n",
       "    }\n",
       "\n",
       "    .dataframe tbody tr th {\n",
       "        vertical-align: top;\n",
       "    }\n",
       "\n",
       "    .dataframe thead th {\n",
       "        text-align: right;\n",
       "    }\n",
       "</style>\n",
       "<table border=\"1\" class=\"dataframe\">\n",
       "  <thead>\n",
       "    <tr style=\"text-align: right;\">\n",
       "      <th></th>\n",
       "      <th>year</th>\n",
       "      <th>rate</th>\n",
       "    </tr>\n",
       "  </thead>\n",
       "  <tbody>\n",
       "    <tr>\n",
       "      <th>0</th>\n",
       "      <td>2014</td>\n",
       "      <td>0.800</td>\n",
       "    </tr>\n",
       "    <tr>\n",
       "      <th>1</th>\n",
       "      <td>2015</td>\n",
       "      <td>0.475</td>\n",
       "    </tr>\n",
       "    <tr>\n",
       "      <th>2</th>\n",
       "      <td>2016</td>\n",
       "      <td>0.500</td>\n",
       "    </tr>\n",
       "    <tr>\n",
       "      <th>3</th>\n",
       "      <td>2017</td>\n",
       "      <td>0.675</td>\n",
       "    </tr>\n",
       "    <tr>\n",
       "      <th>4</th>\n",
       "      <td>2018</td>\n",
       "      <td>0.175</td>\n",
       "    </tr>\n",
       "  </tbody>\n",
       "</table>\n",
       "</div>"
      ],
      "text/plain": [
       "   year   rate\n",
       "0  2014  0.800\n",
       "1  2015  0.475\n",
       "2  2016  0.500\n",
       "3  2017  0.675\n",
       "4  2018  0.175"
      ]
     },
     "execution_count": 6,
     "metadata": {},
     "output_type": "execute_result"
    }
   ],
   "source": [
    "# filter data from 2014 only\n",
    "gdp=gdp[(gdp['year']>2013) & (gdp['year']<2023)]\n",
    "# sum data by year.\n",
    "gdp_filt = gdp.groupby('year')['rate'].mean().reset_index()\n",
    "gdp_filt.head()"
   ]
  },
  {
   "cell_type": "markdown",
   "metadata": {
    "id": "8W0rtxQR0-aK"
   },
   "source": [
    "# Data Cleaning CPIH Data"
   ]
  },
  {
   "cell_type": "code",
   "execution_count": 7,
   "metadata": {
    "colab": {
     "base_uri": "https://localhost:8080/",
     "height": 206
    },
    "executionInfo": {
     "elapsed": 19,
     "status": "ok",
     "timestamp": 1698532167768,
     "user": {
      "displayName": "Nadira Amelia",
      "userId": "00948386670374674038"
     },
     "user_tz": -60
    },
    "id": "UzM3d9ce1Hbr",
    "outputId": "ddb28317-70e3-47db-a9d6-4c5b2db4e177"
   },
   "outputs": [
    {
     "data": {
      "text/html": [
       "<div>\n",
       "<style scoped>\n",
       "    .dataframe tbody tr th:only-of-type {\n",
       "        vertical-align: middle;\n",
       "    }\n",
       "\n",
       "    .dataframe tbody tr th {\n",
       "        vertical-align: top;\n",
       "    }\n",
       "\n",
       "    .dataframe thead th {\n",
       "        text-align: right;\n",
       "    }\n",
       "</style>\n",
       "<table border=\"1\" class=\"dataframe\">\n",
       "  <thead>\n",
       "    <tr style=\"text-align: right;\">\n",
       "      <th></th>\n",
       "      <th>YEAR</th>\n",
       "      <th>CPIH</th>\n",
       "    </tr>\n",
       "  </thead>\n",
       "  <tbody>\n",
       "    <tr>\n",
       "      <th>0</th>\n",
       "      <td>1989</td>\n",
       "      <td>5.7</td>\n",
       "    </tr>\n",
       "    <tr>\n",
       "      <th>1</th>\n",
       "      <td>1990</td>\n",
       "      <td>8.0</td>\n",
       "    </tr>\n",
       "    <tr>\n",
       "      <th>2</th>\n",
       "      <td>1991</td>\n",
       "      <td>7.5</td>\n",
       "    </tr>\n",
       "    <tr>\n",
       "      <th>3</th>\n",
       "      <td>1992</td>\n",
       "      <td>4.6</td>\n",
       "    </tr>\n",
       "    <tr>\n",
       "      <th>4</th>\n",
       "      <td>1993</td>\n",
       "      <td>2.6</td>\n",
       "    </tr>\n",
       "  </tbody>\n",
       "</table>\n",
       "</div>"
      ],
      "text/plain": [
       "   YEAR  CPIH\n",
       "0  1989   5.7\n",
       "1  1990   8.0\n",
       "2  1991   7.5\n",
       "3  1992   4.6\n",
       "4  1993   2.6"
      ]
     },
     "execution_count": 7,
     "metadata": {},
     "output_type": "execute_result"
    }
   ],
   "source": [
    "cpih = cpih.rename(columns={'cpih': 'rate'})\n",
    "cpih.head()"
   ]
  },
  {
   "cell_type": "code",
   "execution_count": 8,
   "metadata": {
    "id": "lmKu_N-p1IUn"
   },
   "outputs": [],
   "source": [
    "# lowercase all\n",
    "cpih.columns = [column.lower() for column in cpih.columns]\n",
    "\n",
    "cpih_filt=cpih[cpih['year'].str.len() == 4]\n",
    "\n"
   ]
  },
  {
   "cell_type": "code",
   "execution_count": 9,
   "metadata": {
    "colab": {
     "base_uri": "https://localhost:8080/"
    },
    "executionInfo": {
     "elapsed": 17,
     "status": "ok",
     "timestamp": 1698532167768,
     "user": {
      "displayName": "Nadira Amelia",
      "userId": "00948386670374674038"
     },
     "user_tz": -60
    },
    "id": "C9VGoa9vP49C",
    "outputId": "ef604017-550a-495c-846f-c18d0f7cc19c"
   },
   "outputs": [
    {
     "name": "stderr",
     "output_type": "stream",
     "text": [
      "/var/folders/_x/gqxjdk0n3k3b_ss6j7w47l780000gn/T/ipykernel_23240/44165346.py:1: SettingWithCopyWarning: \n",
      "A value is trying to be set on a copy of a slice from a DataFrame.\n",
      "Try using .loc[row_indexer,col_indexer] = value instead\n",
      "\n",
      "See the caveats in the documentation: https://pandas.pydata.org/pandas-docs/stable/user_guide/indexing.html#returning-a-view-versus-a-copy\n",
      "  cpih_filt['year']=cpih_filt['year'].astype(int)\n"
     ]
    }
   ],
   "source": [
    "cpih_filt['year']=cpih_filt['year'].astype(int)\n"
   ]
  },
  {
   "cell_type": "code",
   "execution_count": 10,
   "metadata": {
    "id": "mMw8owPBSRwy"
   },
   "outputs": [],
   "source": [
    "cpih_filt=cpih_filt[(cpih_filt['year']>2013) & (cpih_filt['year']<2023)]\n",
    "cpih_filt\n",
    "cpih_filt = cpih_filt.rename(columns={'cpih': 'rate'})\n"
   ]
  },
  {
   "cell_type": "markdown",
   "metadata": {
    "id": "bhCsehzqGEZl"
   },
   "source": [
    "# Cleaning Bank Rate Data\n",
    "For this dataset, the data is set by month, but not always updated each month. The data will be calculated by average by year."
   ]
  },
  {
   "cell_type": "code",
   "execution_count": 11,
   "metadata": {
    "colab": {
     "base_uri": "https://localhost:8080/",
     "height": 206
    },
    "executionInfo": {
     "elapsed": 344,
     "status": "ok",
     "timestamp": 1698532168098,
     "user": {
      "displayName": "Nadira Amelia",
      "userId": "00948386670374674038"
     },
     "user_tz": -60
    },
    "id": "2V2YM_FsGdLD",
    "outputId": "e79e125f-86a1-4466-8ba8-43f8dc59bb18"
   },
   "outputs": [
    {
     "data": {
      "text/html": [
       "<div>\n",
       "<style scoped>\n",
       "    .dataframe tbody tr th:only-of-type {\n",
       "        vertical-align: middle;\n",
       "    }\n",
       "\n",
       "    .dataframe tbody tr th {\n",
       "        vertical-align: top;\n",
       "    }\n",
       "\n",
       "    .dataframe thead th {\n",
       "        text-align: right;\n",
       "    }\n",
       "</style>\n",
       "<table border=\"1\" class=\"dataframe\">\n",
       "  <thead>\n",
       "    <tr style=\"text-align: right;\">\n",
       "      <th></th>\n",
       "      <th>date</th>\n",
       "      <th>rate</th>\n",
       "    </tr>\n",
       "  </thead>\n",
       "  <tbody>\n",
       "    <tr>\n",
       "      <th>0</th>\n",
       "      <td>01 Dec 75</td>\n",
       "      <td>11.50</td>\n",
       "    </tr>\n",
       "    <tr>\n",
       "      <th>1</th>\n",
       "      <td>01 Feb 88</td>\n",
       "      <td>8.88</td>\n",
       "    </tr>\n",
       "    <tr>\n",
       "      <th>2</th>\n",
       "      <td>01 Mar 76</td>\n",
       "      <td>9.25</td>\n",
       "    </tr>\n",
       "    <tr>\n",
       "      <th>3</th>\n",
       "      <td>01 Mar 79</td>\n",
       "      <td>13.00</td>\n",
       "    </tr>\n",
       "    <tr>\n",
       "      <th>4</th>\n",
       "      <td>01 Nov 82</td>\n",
       "      <td>9.38</td>\n",
       "    </tr>\n",
       "  </tbody>\n",
       "</table>\n",
       "</div>"
      ],
      "text/plain": [
       "        date   rate\n",
       "0  01 Dec 75  11.50\n",
       "1  01 Feb 88   8.88\n",
       "2  01 Mar 76   9.25\n",
       "3  01 Mar 79  13.00\n",
       "4  01 Nov 82   9.38"
      ]
     },
     "execution_count": 11,
     "metadata": {},
     "output_type": "execute_result"
    }
   ],
   "source": [
    "bank_rate.columns = [column.lower() for column in bank_rate.columns]\n",
    "\n",
    "bank_rate = bank_rate.rename(columns={'year': 'date'})\n",
    "bank_rate = bank_rate.rename(columns={'bank_rate': 'rate'})\n",
    "bank_rate.head()\n"
   ]
  },
  {
   "cell_type": "code",
   "execution_count": 13,
   "metadata": {
    "id": "P_MZCTINGqzD"
   },
   "outputs": [],
   "source": [
    "# separate the year from the date.\n",
    "bank_rate['year'] = bank_rate['date'].str[-2:]\n"
   ]
  },
  {
   "cell_type": "code",
   "execution_count": 14,
   "metadata": {
    "colab": {
     "base_uri": "https://localhost:8080/",
     "height": 206
    },
    "executionInfo": {
     "elapsed": 24,
     "status": "ok",
     "timestamp": 1698532168099,
     "user": {
      "displayName": "Nadira Amelia",
      "userId": "00948386670374674038"
     },
     "user_tz": -60
    },
    "id": "pnr5r5veZoOj",
    "outputId": "e1733bb4-515e-45c4-9a89-de7681f25ce3"
   },
   "outputs": [
    {
     "data": {
      "text/html": [
       "<div>\n",
       "<style scoped>\n",
       "    .dataframe tbody tr th:only-of-type {\n",
       "        vertical-align: middle;\n",
       "    }\n",
       "\n",
       "    .dataframe tbody tr th {\n",
       "        vertical-align: top;\n",
       "    }\n",
       "\n",
       "    .dataframe thead th {\n",
       "        text-align: right;\n",
       "    }\n",
       "</style>\n",
       "<table border=\"1\" class=\"dataframe\">\n",
       "  <thead>\n",
       "    <tr style=\"text-align: right;\">\n",
       "      <th></th>\n",
       "      <th>date</th>\n",
       "      <th>rate</th>\n",
       "      <th>year</th>\n",
       "    </tr>\n",
       "  </thead>\n",
       "  <tbody>\n",
       "    <tr>\n",
       "      <th>0</th>\n",
       "      <td>01 Dec 75</td>\n",
       "      <td>11.50</td>\n",
       "      <td>2075</td>\n",
       "    </tr>\n",
       "    <tr>\n",
       "      <th>1</th>\n",
       "      <td>01 Feb 88</td>\n",
       "      <td>8.88</td>\n",
       "      <td>2088</td>\n",
       "    </tr>\n",
       "    <tr>\n",
       "      <th>2</th>\n",
       "      <td>01 Mar 76</td>\n",
       "      <td>9.25</td>\n",
       "      <td>2076</td>\n",
       "    </tr>\n",
       "    <tr>\n",
       "      <th>3</th>\n",
       "      <td>01 Mar 79</td>\n",
       "      <td>13.00</td>\n",
       "      <td>2079</td>\n",
       "    </tr>\n",
       "    <tr>\n",
       "      <th>4</th>\n",
       "      <td>01 Nov 82</td>\n",
       "      <td>9.38</td>\n",
       "      <td>2082</td>\n",
       "    </tr>\n",
       "  </tbody>\n",
       "</table>\n",
       "</div>"
      ],
      "text/plain": [
       "        date   rate  year\n",
       "0  01 Dec 75  11.50  2075\n",
       "1  01 Feb 88   8.88  2088\n",
       "2  01 Mar 76   9.25  2076\n",
       "3  01 Mar 79  13.00  2079\n",
       "4  01 Nov 82   9.38  2082"
      ]
     },
     "execution_count": 14,
     "metadata": {},
     "output_type": "execute_result"
    }
   ],
   "source": [
    "# add '20' to the front of the year.\n",
    "bank_rate['year'] = '20'+bank_rate['year']\n",
    "\n",
    "bank_rate.head()"
   ]
  },
  {
   "cell_type": "code",
   "execution_count": 15,
   "metadata": {
    "id": "rbUeOh_IIgQj"
   },
   "outputs": [],
   "source": [
    "# change 'year' datatype to int\n",
    "bank_rate['year']=bank_rate['year'].astype(int)"
   ]
  },
  {
   "cell_type": "code",
   "execution_count": 16,
   "metadata": {
    "id": "SSY2iPvjKitq"
   },
   "outputs": [],
   "source": [
    "# sort data from 2009\n",
    "bank_rate=bank_rate[(bank_rate['year']>2008) & (bank_rate['year']<2023)]"
   ]
  },
  {
   "cell_type": "code",
   "execution_count": 18,
   "metadata": {
    "colab": {
     "base_uri": "https://localhost:8080/",
     "height": 269
    },
    "executionInfo": {
     "elapsed": 22,
     "status": "ok",
     "timestamp": 1698532168099,
     "user": {
      "displayName": "Nadira Amelia",
      "userId": "00948386670374674038"
     },
     "user_tz": -60
    },
    "id": "1ud4-GwfIpIx",
    "outputId": "41af08f9-1a26-44f7-ef6f-15f77e825290"
   },
   "outputs": [
    {
     "data": {
      "text/html": [
       "<div>\n",
       "<style scoped>\n",
       "    .dataframe tbody tr th:only-of-type {\n",
       "        vertical-align: middle;\n",
       "    }\n",
       "\n",
       "    .dataframe tbody tr th {\n",
       "        vertical-align: top;\n",
       "    }\n",
       "\n",
       "    .dataframe thead th {\n",
       "        text-align: right;\n",
       "    }\n",
       "</style>\n",
       "<table border=\"1\" class=\"dataframe\">\n",
       "  <thead>\n",
       "    <tr style=\"text-align: right;\">\n",
       "      <th></th>\n",
       "      <th>year</th>\n",
       "      <th>rate</th>\n",
       "    </tr>\n",
       "  </thead>\n",
       "  <tbody>\n",
       "    <tr>\n",
       "      <th>0</th>\n",
       "      <td>2009</td>\n",
       "      <td>1.000</td>\n",
       "    </tr>\n",
       "    <tr>\n",
       "      <th>1</th>\n",
       "      <td>2016</td>\n",
       "      <td>0.250</td>\n",
       "    </tr>\n",
       "    <tr>\n",
       "      <th>2</th>\n",
       "      <td>2017</td>\n",
       "      <td>0.500</td>\n",
       "    </tr>\n",
       "    <tr>\n",
       "      <th>3</th>\n",
       "      <td>2018</td>\n",
       "      <td>0.750</td>\n",
       "    </tr>\n",
       "    <tr>\n",
       "      <th>4</th>\n",
       "      <td>2020</td>\n",
       "      <td>0.175</td>\n",
       "    </tr>\n",
       "    <tr>\n",
       "      <th>5</th>\n",
       "      <td>2021</td>\n",
       "      <td>0.250</td>\n",
       "    </tr>\n",
       "    <tr>\n",
       "      <th>6</th>\n",
       "      <td>2022</td>\n",
       "      <td>1.750</td>\n",
       "    </tr>\n",
       "  </tbody>\n",
       "</table>\n",
       "</div>"
      ],
      "text/plain": [
       "   year   rate\n",
       "0  2009  1.000\n",
       "1  2016  0.250\n",
       "2  2017  0.500\n",
       "3  2018  0.750\n",
       "4  2020  0.175\n",
       "5  2021  0.250\n",
       "6  2022  1.750"
      ]
     },
     "execution_count": 18,
     "metadata": {},
     "output_type": "execute_result"
    }
   ],
   "source": [
    "# group data by year and show only 'year' and 'rate'\n",
    "bank_rate_filt = bank_rate.groupby('year')['rate'].mean().reset_index()\n",
    "bank_rate_filt\n",
    "# cannot find 2014-2015 rate. 2010-2015 data unavailable!"
   ]
  },
  {
   "cell_type": "code",
   "execution_count": 19,
   "metadata": {
    "id": "bXEyTTrhL0Sp"
   },
   "outputs": [],
   "source": [
    "# here we change the 2009 to 2014 data manually, to match the other dataset. \n",
    "# The data is taken from the Bank of England's website. Which also takes the average of said year.\n",
    "condition = bank_rate_filt['year'] == 2009\n",
    "\n",
    "bank_rate_filt.loc[condition, 'year'] = 2014\n",
    "condition = bank_rate_filt['year'] == 2014\n",
    "\n",
    "# the data from Bank of England is input here.\n",
    "bank_rate_filt.loc[condition, 'rate'] = 0.5"
   ]
  },
  {
   "cell_type": "code",
   "execution_count": 20,
   "metadata": {
    "colab": {
     "base_uri": "https://localhost:8080/",
     "height": 269
    },
    "executionInfo": {
     "elapsed": 22,
     "status": "ok",
     "timestamp": 1698532168100,
     "user": {
      "displayName": "Nadira Amelia",
      "userId": "00948386670374674038"
     },
     "user_tz": -60
    },
    "id": "ID5fZUbIYqyh",
    "outputId": "e4e19a31-c693-4640-f80b-10c61f9fe42d"
   },
   "outputs": [
    {
     "data": {
      "text/html": [
       "<div>\n",
       "<style scoped>\n",
       "    .dataframe tbody tr th:only-of-type {\n",
       "        vertical-align: middle;\n",
       "    }\n",
       "\n",
       "    .dataframe tbody tr th {\n",
       "        vertical-align: top;\n",
       "    }\n",
       "\n",
       "    .dataframe thead th {\n",
       "        text-align: right;\n",
       "    }\n",
       "</style>\n",
       "<table border=\"1\" class=\"dataframe\">\n",
       "  <thead>\n",
       "    <tr style=\"text-align: right;\">\n",
       "      <th></th>\n",
       "      <th>year</th>\n",
       "      <th>rate</th>\n",
       "    </tr>\n",
       "  </thead>\n",
       "  <tbody>\n",
       "    <tr>\n",
       "      <th>0</th>\n",
       "      <td>2014</td>\n",
       "      <td>0.500</td>\n",
       "    </tr>\n",
       "    <tr>\n",
       "      <th>1</th>\n",
       "      <td>2016</td>\n",
       "      <td>0.250</td>\n",
       "    </tr>\n",
       "    <tr>\n",
       "      <th>2</th>\n",
       "      <td>2017</td>\n",
       "      <td>0.500</td>\n",
       "    </tr>\n",
       "    <tr>\n",
       "      <th>3</th>\n",
       "      <td>2018</td>\n",
       "      <td>0.750</td>\n",
       "    </tr>\n",
       "    <tr>\n",
       "      <th>4</th>\n",
       "      <td>2020</td>\n",
       "      <td>0.175</td>\n",
       "    </tr>\n",
       "    <tr>\n",
       "      <th>5</th>\n",
       "      <td>2021</td>\n",
       "      <td>0.250</td>\n",
       "    </tr>\n",
       "    <tr>\n",
       "      <th>6</th>\n",
       "      <td>2022</td>\n",
       "      <td>1.750</td>\n",
       "    </tr>\n",
       "  </tbody>\n",
       "</table>\n",
       "</div>"
      ],
      "text/plain": [
       "   year   rate\n",
       "0  2014  0.500\n",
       "1  2016  0.250\n",
       "2  2017  0.500\n",
       "3  2018  0.750\n",
       "4  2020  0.175\n",
       "5  2021  0.250\n",
       "6  2022  1.750"
      ]
     },
     "execution_count": 20,
     "metadata": {},
     "output_type": "execute_result"
    }
   ],
   "source": [
    "bank_rate_filt"
   ]
  },
  {
   "cell_type": "markdown",
   "metadata": {
    "id": "TMGv9ZzqL-Pw"
   },
   "source": [
    "# last data clean: sort all data then merge"
   ]
  },
  {
   "cell_type": "code",
   "execution_count": 21,
   "metadata": {
    "id": "BvDZQua9MDdz"
   },
   "outputs": [],
   "source": [
    "gdp_filt = gdp_filt.sort_values(by='year', ascending=True)\n",
    "cpih = cpih.sort_values(by='year', ascending=True)\n",
    "bank_rate_filt = bank_rate_filt.sort_values(by='year', ascending=True)\n"
   ]
  },
  {
   "cell_type": "code",
   "execution_count": 22,
   "metadata": {
    "id": "5B05bKoEMW1y"
   },
   "outputs": [],
   "source": [
    "# add identification to each row in a new column 'type'\n",
    "gdp_filt['type']='GDP'\n",
    "cpih_filt['type']='Interest Rate (CPIH)'\n",
    "bank_rate_filt['type']='Bank Rate (BoE)'"
   ]
  },
  {
   "cell_type": "code",
   "execution_count": 23,
   "metadata": {
    "id": "4hmUkxhbM0KO"
   },
   "outputs": [],
   "source": [
    "df=pd.concat([gdp_filt,cpih_filt,bank_rate_filt])"
   ]
  },
  {
   "cell_type": "code",
   "execution_count": 26,
   "metadata": {
    "colab": {
     "base_uri": "https://localhost:8080/"
    },
    "executionInfo": {
     "elapsed": 20,
     "status": "ok",
     "timestamp": 1698532168100,
     "user": {
      "displayName": "Nadira Amelia",
      "userId": "00948386670374674038"
     },
     "user_tz": -60
    },
    "id": "gfmswWiLM8vZ",
    "outputId": "2c6c9cb0-3d36-4485-f6ea-133a9f5d7d43"
   },
   "outputs": [
    {
     "data": {
      "text/plain": [
       "count    25.000000\n",
       "mean      1.178000\n",
       "std       1.664384\n",
       "min      -1.200000\n",
       "25%       0.400000\n",
       "50%       0.675000\n",
       "75%       1.700000\n",
       "max       7.900000\n",
       "Name: rate, dtype: float64"
      ]
     },
     "execution_count": 26,
     "metadata": {},
     "output_type": "execute_result"
    }
   ],
   "source": [
    "df.describe()['rate']"
   ]
  },
  {
   "cell_type": "markdown",
   "metadata": {
    "id": "gcGeIDkIbd-k"
   },
   "source": [
    "# Export Dataframe to Excel"
   ]
  },
  {
   "cell_type": "code",
   "execution_count": null,
   "metadata": {
    "id": "NvF2-SFAbbkF"
   },
   "outputs": [],
   "source": [
    "df.to_excel('finance_indicator.xlsx', index=False)"
   ]
  },
  {
   "cell_type": "markdown",
   "metadata": {},
   "source": [
    "And that concludes the data cleaning for financial indicator."
   ]
  }
 ],
 "metadata": {
  "colab": {
   "authorship_tag": "ABX9TyNFKB0ffSnlSvAptGisC2BV",
   "provenance": []
  },
  "kernelspec": {
   "display_name": "Python 3 (ipykernel)",
   "language": "python",
   "name": "python3"
  },
  "language_info": {
   "codemirror_mode": {
    "name": "ipython",
    "version": 3
   },
   "file_extension": ".py",
   "mimetype": "text/x-python",
   "name": "python",
   "nbconvert_exporter": "python",
   "pygments_lexer": "ipython3",
   "version": "3.11.5"
  }
 },
 "nbformat": 4,
 "nbformat_minor": 1
}
